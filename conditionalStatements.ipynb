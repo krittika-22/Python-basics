{
 "cells": [
  {
   "cell_type": "code",
   "execution_count": 1,
   "id": "62572eb6",
   "metadata": {},
   "outputs": [
    {
     "name": "stdout",
     "output_type": "stream",
     "text": [
      "you are allowed to vote in the elections \n"
     ]
    }
   ],
   "source": [
    "age=20\n",
    "if age>=18:\n",
    "    print(\"you are allowed to vote in the elections \")\n"
   ]
  },
  {
   "cell_type": "code",
   "execution_count": null,
   "id": "3cfa2690",
   "metadata": {},
   "outputs": [
    {
     "name": "stdout",
     "output_type": "stream",
     "text": [
      "you are a minor\n"
     ]
    }
   ],
   "source": [
    "age=16\n",
    "if age>=18:\n",
    "    print(\"you are allowed to vote in the elections \")\n",
    "else:\n",
    "    print(\"you are a minor\")\n"
   ]
  },
  {
   "cell_type": "code",
   "execution_count": 4,
   "id": "f524deb2",
   "metadata": {},
   "outputs": [
    {
     "name": "stdout",
     "output_type": "stream",
     "text": [
      "you are a teenager\n"
     ]
    }
   ],
   "source": [
    "age=17\n",
    "\n",
    "if age<13:\n",
    "    print(\"You are a child\")\n",
    "elif age<18:\n",
    "    print(\"you are a teenager\")\n",
    "else:\n",
    "    print(\"you are an adult\")\n",
    "\n"
   ]
  },
  {
   "cell_type": "markdown",
   "id": "cba6c367",
   "metadata": {},
   "source": [
    "#### Nested Conditional Statement"
   ]
  },
  {
   "cell_type": "code",
   "execution_count": 8,
   "id": "3c59a6f4",
   "metadata": {},
   "outputs": [
    {
     "name": "stdout",
     "output_type": "stream",
     "text": [
      "THE NUMBER IS NEGATIVE\n"
     ]
    }
   ],
   "source": [
    "num=int(input(\"ENTER THE NUMBER\"))\n",
    "\n",
    "if num>=0:\n",
    "    print(\"IT IS A POSITIVE NUMBER\")\n",
    "    if num%2==0:\n",
    "        print(\"THE NUMBER IS EVEN\")\n",
    "    else:\n",
    "        print(\"THE NUMBER IS ODD\")\n",
    "else:\n",
    "    print(\"THE NUMBER IS NEGATIVE\")\n"
   ]
  },
  {
   "cell_type": "code",
   "execution_count": 11,
   "id": "d2f9a9c1",
   "metadata": {},
   "outputs": [
    {
     "name": "stdout",
     "output_type": "stream",
     "text": [
      "2024 IS LEAP YEAR\n"
     ]
    }
   ],
   "source": [
    "## determine if a year is leap year using nested conditional statements\n",
    "\n",
    "year=int(input(\"ENTER THE YEAR\"))\n",
    "\n",
    "if(year%4==0):\n",
    "\n",
    "    if(year%100==0):\n",
    "\n",
    "        if(year%400==0):\n",
    "            print(year,\"IS LEAP YEAR\")\n",
    "        else:\n",
    "            print(year,\"IS NOT LEAP YEAR\")\n",
    "\n",
    "    else:\n",
    "        print(year,\"IS LEAP YEAR\")\n",
    "\n",
    "else:\n",
    "    print(year,\"IS NOT LEAP YEAR\")"
   ]
  }
 ],
 "metadata": {
  "kernelspec": {
   "display_name": "Python 3",
   "language": "python",
   "name": "python3"
  },
  "language_info": {
   "codemirror_mode": {
    "name": "ipython",
    "version": 3
   },
   "file_extension": ".py",
   "mimetype": "text/x-python",
   "name": "python",
   "nbconvert_exporter": "python",
   "pygments_lexer": "ipython3",
   "version": "3.12.0"
  }
 },
 "nbformat": 4,
 "nbformat_minor": 5
}
