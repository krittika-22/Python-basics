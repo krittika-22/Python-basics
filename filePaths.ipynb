{
 "cells": [
  {
   "cell_type": "markdown",
   "id": "f84d3d1f",
   "metadata": {},
   "source": [
    "## CREATING NEW DIRECTORY"
   ]
  },
  {
   "cell_type": "code",
   "execution_count": 3,
   "id": "f65b4b96",
   "metadata": {},
   "outputs": [
    {
     "name": "stdout",
     "output_type": "stream",
     "text": [
      "Directory'package'create\n"
     ]
    }
   ],
   "source": [
    "import os\n",
    "new_directory=\"package\"\n",
    "os.mkdir(new_directory)\n",
    "print(f\"Directory'{new_directory}'create\")"
   ]
  },
  {
   "cell_type": "code",
   "execution_count": 4,
   "id": "76a8cc9c",
   "metadata": {},
   "outputs": [
    {
     "name": "stdout",
     "output_type": "stream",
     "text": [
      "['conditionalStatements.ipynb', 'datatypes.ipynb', 'destination.txt', 'dictionaries.ipynb', 'example.bin', 'example.csv', 'example.txt', 'fileHandling.ipynb', 'filePaths.ipynb', 'filterFunctions.ipynb', 'functions.ipynb', 'lambdaFunctions.ipynb', 'list.ipynb', 'loops.ipynb', 'managingAnInventory.ipynb', 'mapFunctions.ipynb', 'modulesAndpackages.ipynb', 'operators.ipynb', 'package', 'packages', 'requirements.txt', 'sets.ipynb', 'source.txt', 'standardLibrary.ipynb', 'test.ipynb', 'test.py', 'test_dir', 'toDoList.ipynb', 'tuple.ipynb', 'variables.ipynb']\n"
     ]
    }
   ],
   "source": [
    "## listing files and directories\n",
    "\n",
    "\n",
    "items=os.listdir('.')\n",
    "print(items)"
   ]
  },
  {
   "cell_type": "markdown",
   "id": "8f4057b2",
   "metadata": {},
   "source": [
    "## JOINING PATHS\n"
   ]
  },
  {
   "cell_type": "code",
   "execution_count": 5,
   "id": "94af2959",
   "metadata": {},
   "outputs": [
    {
     "name": "stdout",
     "output_type": "stream",
     "text": [
      "folder\\file.txt\n"
     ]
    }
   ],
   "source": [
    "dir_name=\"folder\"\n",
    "file_name=\"file.txt\"\n",
    "full_path=os.path.join(dir_name,file_name)\n",
    "print(full_path)"
   ]
  },
  {
   "cell_type": "code",
   "execution_count": 7,
   "id": "f6bda109",
   "metadata": {},
   "outputs": [
    {
     "name": "stdout",
     "output_type": "stream",
     "text": [
      "c:\\Users\\konin\\Desktop\\PYTHON\\1-python basics\\folder\\file.txt\n"
     ]
    }
   ],
   "source": [
    "dir_name=\"folder\"\n",
    "file_name=\"file.txt\"\n",
    "full_path=os.path.join(os.getcwd(),dir_name,file_name)\n",
    "print(full_path)"
   ]
  },
  {
   "cell_type": "code",
   "execution_count": 8,
   "id": "e453a4fd",
   "metadata": {},
   "outputs": [
    {
     "name": "stdout",
     "output_type": "stream",
     "text": [
      "this path'example1.txt' does not exist\n"
     ]
    }
   ],
   "source": [
    "## check a file is present or not\n",
    "\n",
    "\n",
    "path='example1.txt'\n",
    "if os.path.exists(path):\n",
    "    print(f\"this path'{path}'exists\")\n",
    "else:\n",
    "    print(f\"this path'{path}' does not exist\")"
   ]
  },
  {
   "cell_type": "code",
   "execution_count": 9,
   "id": "bf6dff10",
   "metadata": {},
   "outputs": [
    {
     "name": "stdout",
     "output_type": "stream",
     "text": [
      "this path'example.txt'exists\n"
     ]
    }
   ],
   "source": [
    "path='example.txt'\n",
    "if os.path.exists(path):\n",
    "    print(f\"this path'{path}'exists\")\n",
    "else:\n",
    "    print(f\"this path'{path}' does not exist\")"
   ]
  },
  {
   "cell_type": "code",
   "execution_count": 11,
   "id": "fd8edc17",
   "metadata": {},
   "outputs": [
    {
     "name": "stdout",
     "output_type": "stream",
     "text": [
      "c:\\Users\\konin\\Desktop\\PYTHON\\1-python basics\\example.txt\n"
     ]
    }
   ],
   "source": [
    "## getting the absolute path:\n",
    "\n",
    "relative_path='example.txt'\n",
    "absolute_path=os.path.abspath(relative_path)\n",
    "print(absolute_path)"
   ]
  }
 ],
 "metadata": {
  "kernelspec": {
   "display_name": "Python 3",
   "language": "python",
   "name": "python3"
  },
  "language_info": {
   "codemirror_mode": {
    "name": "ipython",
    "version": 3
   },
   "file_extension": ".py",
   "mimetype": "text/x-python",
   "name": "python",
   "nbconvert_exporter": "python",
   "pygments_lexer": "ipython3",
   "version": "3.12.0"
  }
 },
 "nbformat": 4,
 "nbformat_minor": 5
}
