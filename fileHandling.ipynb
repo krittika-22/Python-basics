{
 "cells": [
  {
   "cell_type": "markdown",
   "id": "20e5792c",
   "metadata": {},
   "source": [
    "#### READ AND WRITE FILES"
   ]
  },
  {
   "cell_type": "code",
   "execution_count": 2,
   "id": "fc07dbdd",
   "metadata": {},
   "outputs": [
    {
     "name": "stdout",
     "output_type": "stream",
     "text": [
      "Hello I am Krittika!\n"
     ]
    }
   ],
   "source": [
    "with open('example.txt','r') as file:\n",
    "    content=file.read()\n",
    "    print(content)\n"
   ]
  },
  {
   "cell_type": "code",
   "execution_count": 2,
   "id": "c75f934c",
   "metadata": {},
   "outputs": [
    {
     "name": "stdout",
     "output_type": "stream",
     "text": [
      "Hello I am Krittika!\n",
      "\n",
      "Data visualization using python-07.08.2025.\n",
      "\n",
      "Numpy\n",
      "\n",
      "Pnadas\n",
      "\n",
      "Matplotlib\n"
     ]
    }
   ],
   "source": [
    "with open('example.txt') as file:\n",
    "    for line in file:\n",
    "        print(line)"
   ]
  },
  {
   "cell_type": "code",
   "execution_count": 3,
   "id": "2a746497",
   "metadata": {},
   "outputs": [
    {
     "name": "stdout",
     "output_type": "stream",
     "text": [
      "Hello I am Krittika!\n",
      "Data visualization using python-07.08.2025.\n",
      "Numpy\n",
      "Pnadas\n",
      "Matplotlib\n"
     ]
    }
   ],
   "source": [
    "## to remove new lines    (.strip)\n",
    "\n",
    "with open('example.txt') as file:\n",
    "    for line in file:\n",
    "        print(line.strip())\n"
   ]
  },
  {
   "cell_type": "code",
   "execution_count": 6,
   "id": "302983d3",
   "metadata": {},
   "outputs": [],
   "source": [
    "## write a file(overwriting)\n",
    "\n",
    "with open ('example.txt','w')as file:\n",
    "    file.write('Hello World!\\n')\n",
    "    file.write('this is a new line\\n')"
   ]
  },
  {
   "cell_type": "code",
   "execution_count": 7,
   "id": "8b9a9395",
   "metadata": {},
   "outputs": [],
   "source": [
    "## write a file(without overwriting)\n",
    "\n",
    "with open('example.txt','a') as file:\n",
    "    file.write(\"Append operation is taking place!\")"
   ]
  },
  {
   "cell_type": "code",
   "execution_count": 10,
   "id": "47d33328",
   "metadata": {},
   "outputs": [],
   "source": [
    "## writing a list of lines to a file\n",
    "\n",
    "lines=['First line\\n','Second line\\n','Third line\\n']\n",
    "with open('example.txt','a') as file:\n",
    "    file.writelines(lines)"
   ]
  },
  {
   "cell_type": "markdown",
   "id": "71fa94dd",
   "metadata": {},
   "source": [
    "#### BINARY FILES"
   ]
  },
  {
   "cell_type": "code",
   "execution_count": 13,
   "id": "431cbeb3",
   "metadata": {},
   "outputs": [],
   "source": [
    "##writing to a binary file:\n",
    "\n",
    "data=b'\\x00\\x01\\x02\\x03'\n",
    "with open('example.bin','wb')as file:\n",
    "    file.write(data)"
   ]
  },
  {
   "cell_type": "code",
   "execution_count": 17,
   "id": "9daf74a5",
   "metadata": {},
   "outputs": [
    {
     "name": "stdout",
     "output_type": "stream",
     "text": [
      "b'\\x00\\x01\\x02\\x03'\n"
     ]
    }
   ],
   "source": [
    "## reading a binary file\n",
    "\n",
    "with open('example.bin','rb') as file:\n",
    "    content=file.read()\n",
    "    print(content)"
   ]
  },
  {
   "cell_type": "markdown",
   "id": "a2293d5d",
   "metadata": {},
   "source": [
    "#### Writing and then reading a file"
   ]
  },
  {
   "cell_type": "code",
   "execution_count": 2,
   "id": "6432afb1",
   "metadata": {},
   "outputs": [
    {
     "name": "stdout",
     "output_type": "stream",
     "text": [
      "\n"
     ]
    }
   ],
   "source": [
    "with open('example.txt','w+') as file:\n",
    "    file.write(\"hello world\\n\")\n",
    "    file.write(\"bye world\")\n",
    "\n",
    "    content=file.read()\n",
    "    print(content)"
   ]
  },
  {
   "cell_type": "markdown",
   "id": "22c6ee2a",
   "metadata": {},
   "source": [
    "seek\n"
   ]
  },
  {
   "cell_type": "code",
   "execution_count": 4,
   "id": "37c71317",
   "metadata": {},
   "outputs": [
    {
     "name": "stdout",
     "output_type": "stream",
     "text": [
      "hello world\n",
      "bye world\n"
     ]
    }
   ],
   "source": [
    "with open('example.txt','w+') as file:\n",
    "    file.write(\"hello world\\n\")\n",
    "    file.write(\"bye world\")\n",
    "\n",
    "    file.seek(0)\n",
    "\n",
    "    content=file.read()\n",
    "    print(content)"
   ]
  }
 ],
 "metadata": {
  "kernelspec": {
   "display_name": "Python 3",
   "language": "python",
   "name": "python3"
  },
  "language_info": {
   "codemirror_mode": {
    "name": "ipython",
    "version": 3
   },
   "file_extension": ".py",
   "mimetype": "text/x-python",
   "name": "python",
   "nbconvert_exporter": "python",
   "pygments_lexer": "ipython3",
   "version": "3.12.0"
  }
 },
 "nbformat": 4,
 "nbformat_minor": 5
}
