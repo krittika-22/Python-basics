{
 "cells": [
  {
   "cell_type": "code",
   "execution_count": 1,
   "id": "b5e869a4",
   "metadata": {},
   "outputs": [
    {
     "name": "stdout",
     "output_type": "stream",
     "text": [
      "{}\n"
     ]
    }
   ],
   "source": [
    "empty_dict={}\n",
    "print((empty_dict))"
   ]
  },
  {
   "cell_type": "code",
   "execution_count": 2,
   "id": "6fa9e834",
   "metadata": {},
   "outputs": [
    {
     "name": "stdout",
     "output_type": "stream",
     "text": [
      "{}\n"
     ]
    }
   ],
   "source": [
    "empty_dict=dict()\n",
    "print((empty_dict))"
   ]
  },
  {
   "cell_type": "markdown",
   "id": "335e43cc",
   "metadata": {},
   "source": [
    "#### KEY VALUE PAIRS"
   ]
  },
  {
   "cell_type": "code",
   "execution_count": 6,
   "id": "97639990",
   "metadata": {},
   "outputs": [
    {
     "name": "stdout",
     "output_type": "stream",
     "text": [
      "{'Name': 'Krittika', 'age': 22, 'grade': 'A'}\n"
     ]
    }
   ],
   "source": [
    "student={\"Name\":\"Krittika\",\"age\":22,\"grade\":\"A\"}\n",
    "print(student)"
   ]
  },
  {
   "cell_type": "code",
   "execution_count": null,
   "id": "823e3ad3",
   "metadata": {},
   "outputs": [
    {
     "name": "stdout",
     "output_type": "stream",
     "text": [
      "{'Name': 24, 'age': 22}\n"
     ]
    }
   ],
   "source": [
    "##single key is always used\n",
    "student={\"Name\":\"Krittika\",\"age\":22,\"Name\":24}\n",
    "print(student)"
   ]
  },
  {
   "cell_type": "code",
   "execution_count": 8,
   "id": "ebe4bfa8",
   "metadata": {},
   "outputs": [
    {
     "name": "stdout",
     "output_type": "stream",
     "text": [
      "{'Name': 'Krittika', 'age': 22, 'grade': 'A'}\n",
      "A\n",
      "22\n"
     ]
    }
   ],
   "source": [
    "##accessing elements\n",
    "student={\"Name\":\"Krittika\",\"age\":22,\"grade\":\"A\"}\n",
    "print(student)\n",
    "print(student['grade'])\n",
    "print(student['age'])\n",
    "\n"
   ]
  },
  {
   "cell_type": "code",
   "execution_count": 4,
   "id": "20618b7f",
   "metadata": {},
   "outputs": [
    {
     "name": "stdout",
     "output_type": "stream",
     "text": [
      "{'Name': 'Krittika', 'age': 22, 'grade': 'A'}\n",
      "A\n",
      "22\n",
      "None\n",
      "NOT AVAILABLE\n"
     ]
    }
   ],
   "source": [
    "student={\"Name\":\"Krittika\",\"age\":22,\"grade\":\"A\"}\n",
    "print(student)\n",
    "print(student.get('grade'))\n",
    "print(student.get('age'))\n",
    "print(student.get('last_name')) ##this is not present in the dict\n",
    "print(student.get('last_name',\"NOT AVAILABLE\")) ## just providing a default value "
   ]
  },
  {
   "cell_type": "code",
   "execution_count": 5,
   "id": "b39fc6cc",
   "metadata": {},
   "outputs": [
    {
     "name": "stdout",
     "output_type": "stream",
     "text": [
      "{'Name': 'Krittika', 'age': 22, 'grade': 'A'}\n",
      "{'Name': 'Krittika', 'age': 32, 'grade': 'A'}\n",
      "{'Name': 'Krittika', 'age': 32, 'grade': 'A', 'address': 'India'}\n"
     ]
    }
   ],
   "source": [
    "##modifying dictionary elements\n",
    "\n",
    "print(student)\n",
    "\n",
    "student[\"age\"]=32 ##change and update the key and value\n",
    "print(student)\n",
    "\n",
    "student[\"address\"]=\"India\" ##adding a new key value pair\n",
    "print(student)\n",
    "\n"
   ]
  },
  {
   "cell_type": "code",
   "execution_count": 6,
   "id": "5d34cee5",
   "metadata": {},
   "outputs": [
    {
     "name": "stdout",
     "output_type": "stream",
     "text": [
      "{'Name': 'Krittika', 'grade': 'A', 'address': 'India'}\n"
     ]
    }
   ],
   "source": [
    "del student['age'] ## delete a key value pair\n",
    "print(student)"
   ]
  },
  {
   "cell_type": "markdown",
   "id": "c2ad1832",
   "metadata": {},
   "source": [
    "#### DICTIONARY METHODS"
   ]
  },
  {
   "cell_type": "code",
   "execution_count": 7,
   "id": "06aaea69",
   "metadata": {},
   "outputs": [
    {
     "name": "stdout",
     "output_type": "stream",
     "text": [
      "dict_keys(['Name', 'grade', 'address'])\n"
     ]
    }
   ],
   "source": [
    "keys=student.keys() ##to get all the keys\n",
    "print(keys)"
   ]
  },
  {
   "cell_type": "code",
   "execution_count": 8,
   "id": "d23da723",
   "metadata": {},
   "outputs": [
    {
     "name": "stdout",
     "output_type": "stream",
     "text": [
      "dict_values(['Krittika', 'A', 'India'])\n"
     ]
    }
   ],
   "source": [
    "values=student.values() ##to get all the values\n",
    "print(values)"
   ]
  },
  {
   "cell_type": "code",
   "execution_count": 9,
   "id": "abd9fb83",
   "metadata": {},
   "outputs": [
    {
     "name": "stdout",
     "output_type": "stream",
     "text": [
      "dict_items([('Name', 'Krittika'), ('grade', 'A'), ('address', 'India')])\n"
     ]
    }
   ],
   "source": [
    "items=student.items() ##to get all key value pairs\n",
    "print(items)"
   ]
  },
  {
   "cell_type": "code",
   "execution_count": 10,
   "id": "33cb03e7",
   "metadata": {},
   "outputs": [
    {
     "name": "stdout",
     "output_type": "stream",
     "text": [
      "{'Name': 'Krittika', 'grade': 'A', 'address': 'India'}\n",
      "{'Name': 'Krittika', 'grade': 'A', 'address': 'India'}\n",
      "{'Name': 'Krittika', 'grade': 'A', 'address': 'India'}\n"
     ]
    }
   ],
   "source": [
    "print(student)\n",
    "student_copy=student\n",
    "print(student)\n",
    "print(student_copy)\n"
   ]
  },
  {
   "cell_type": "code",
   "execution_count": 11,
   "id": "b7eb1ff3",
   "metadata": {},
   "outputs": [
    {
     "name": "stdout",
     "output_type": "stream",
     "text": [
      "{'Name': 'kri', 'grade': 'A', 'address': 'India'}\n",
      "{'Name': 'kri', 'grade': 'A', 'address': 'India'}\n"
     ]
    }
   ],
   "source": [
    "student[\"Name\"]=\"kri\"\n",
    "print(student)\n",
    "print(student_copy)\n",
    "\n"
   ]
  },
  {
   "cell_type": "code",
   "execution_count": null,
   "id": "ed34f904",
   "metadata": {},
   "outputs": [
    {
     "name": "stdout",
     "output_type": "stream",
     "text": [
      "{'Name': 'kri', 'grade': 'A', 'address': 'India'}\n",
      "{'Name': 'kri', 'grade': 'A', 'address': 'India'}\n"
     ]
    }
   ],
   "source": [
    "student_copy1=student.copy() \n",
    "print(student_copy1)\n",
    "print(student)"
   ]
  },
  {
   "cell_type": "code",
   "execution_count": null,
   "id": "be5dac80",
   "metadata": {},
   "outputs": [
    {
     "name": "stdout",
     "output_type": "stream",
     "text": [
      "{'Name': 'kri', 'grade': 'A', 'address': 'India'}\n",
      "{'Name': 'KRish3', 'grade': 'A', 'address': 'India'}\n"
     ]
    }
   ],
   "source": [
    "student[\"Name\"]=\"KRish3\" ## shallow copy\n",
    "print(student_copy1)\n",
    "print(student)"
   ]
  },
  {
   "cell_type": "code",
   "execution_count": 14,
   "id": "cf56d9f9",
   "metadata": {},
   "outputs": [
    {
     "name": "stdout",
     "output_type": "stream",
     "text": [
      "Name\n",
      "grade\n",
      "address\n"
     ]
    }
   ],
   "source": [
    "##iterating over dictionaries\n",
    "\n",
    "for keys in student.keys():\n",
    "    print(keys)"
   ]
  },
  {
   "cell_type": "code",
   "execution_count": 17,
   "id": "c1ab62d1",
   "metadata": {},
   "outputs": [
    {
     "name": "stdout",
     "output_type": "stream",
     "text": [
      "KRish3\n",
      "A\n",
      "India\n"
     ]
    }
   ],
   "source": [
    "for values in student.values():\n",
    "    print(values)"
   ]
  },
  {
   "cell_type": "code",
   "execution_count": 18,
   "id": "86d3947c",
   "metadata": {},
   "outputs": [
    {
     "name": "stdout",
     "output_type": "stream",
     "text": [
      "Name:KRish3\n",
      "grade:A\n",
      "address:India\n"
     ]
    }
   ],
   "source": [
    "for keys,values in student.items():\n",
    "    print(f\"{keys}:{values}\")"
   ]
  },
  {
   "cell_type": "markdown",
   "id": "c9717f84",
   "metadata": {},
   "source": [
    "#### Nested Dictionaries"
   ]
  },
  {
   "cell_type": "code",
   "execution_count": 19,
   "id": "021fdd27",
   "metadata": {},
   "outputs": [
    {
     "name": "stdout",
     "output_type": "stream",
     "text": [
      "{'student1': {'name': 'Krittika', 'age': 22}, 'student2': {'name': 'koninika', 'age': 27}}\n"
     ]
    }
   ],
   "source": [
    "students={\n",
    "    \"student1\":{\"name\":\"Krittika\",\"age\":22},\n",
    "    \"student2\":{\"name\":\"koninika\",\"age\":27}\n",
    "}\n",
    "print(students)"
   ]
  },
  {
   "cell_type": "code",
   "execution_count": 21,
   "id": "599183e5",
   "metadata": {},
   "outputs": [
    {
     "name": "stdout",
     "output_type": "stream",
     "text": [
      "Krittika\n"
     ]
    }
   ],
   "source": [
    "##accessing nested dictionary elements\n",
    "\n",
    "print(students[\"student1\"][\"name\"])"
   ]
  },
  {
   "cell_type": "code",
   "execution_count": 22,
   "id": "84bc8e76",
   "metadata": {},
   "outputs": [
    {
     "name": "stdout",
     "output_type": "stream",
     "text": [
      "27\n"
     ]
    }
   ],
   "source": [
    "print(students[\"student2\"][\"age\"])"
   ]
  },
  {
   "cell_type": "code",
   "execution_count": 23,
   "id": "7aa76632",
   "metadata": {},
   "outputs": [
    {
     "data": {
      "text/plain": [
       "dict_items([('Name', 'KRish3'), ('grade', 'A'), ('address', 'India')])"
      ]
     },
     "execution_count": 23,
     "metadata": {},
     "output_type": "execute_result"
    }
   ],
   "source": [
    "student.items()"
   ]
  },
  {
   "cell_type": "code",
   "execution_count": 25,
   "id": "e3d01594",
   "metadata": {},
   "outputs": [
    {
     "name": "stdout",
     "output_type": "stream",
     "text": [
      "student1:{'name': 'Krittika', 'age': 22}\n",
      "name:Krittika\n",
      "age:22\n",
      "student2:{'name': 'koninika', 'age': 27}\n",
      "name:koninika\n",
      "age:27\n"
     ]
    }
   ],
   "source": [
    "##iterating over nested dictionaries\n",
    "\n",
    "for student_id,student_info in students.items():\n",
    "    print(f\"{student_id}:{student_info}\")\n",
    "    for keys,values in student_info.items():\n",
    "        print(f\"{keys}:{values}\")\n"
   ]
  },
  {
   "cell_type": "markdown",
   "id": "5f44f760",
   "metadata": {},
   "source": [
    "#### Dictionary Comprehension"
   ]
  },
  {
   "cell_type": "code",
   "execution_count": 27,
   "id": "cd93648f",
   "metadata": {},
   "outputs": [
    {
     "name": "stdout",
     "output_type": "stream",
     "text": [
      "{0: 0, 1: 1, 2: 4, 3: 9, 4: 16}\n"
     ]
    }
   ],
   "source": [
    "squares={x:x**2 for x in range(5)}\n",
    "print(squares)"
   ]
  },
  {
   "cell_type": "code",
   "execution_count": 29,
   "id": "6c48a7f0",
   "metadata": {},
   "outputs": [
    {
     "name": "stdout",
     "output_type": "stream",
     "text": [
      "{0: 0, 2: 4, 4: 16, 6: 36, 8: 64, 10: 100, 12: 144, 14: 196, 16: 256, 18: 324}\n"
     ]
    }
   ],
   "source": [
    "##conditional\n",
    "\n",
    "squares={x:x**2 for x in range(20) if x%2==0}\n",
    "print(squares)"
   ]
  },
  {
   "cell_type": "markdown",
   "id": "d8b0babe",
   "metadata": {},
   "source": [
    "#### Merging two dictionaries"
   ]
  },
  {
   "cell_type": "code",
   "execution_count": 32,
   "id": "ecc69aff",
   "metadata": {},
   "outputs": [
    {
     "name": "stdout",
     "output_type": "stream",
     "text": [
      "{'A': 1, 'B': 3, 'C': 4}\n"
     ]
    }
   ],
   "source": [
    "dict1={\"A\":1,\"B\":2}\n",
    "dict2={\"B\":3,\"C\":4}\n",
    "merged_dict={**dict1,**dict2} ##key word argument\n",
    "\n",
    "print(merged_dict)"
   ]
  },
  {
   "cell_type": "code",
   "execution_count": 30,
   "id": "3486f5d1",
   "metadata": {},
   "outputs": [
    {
     "name": "stdout",
     "output_type": "stream",
     "text": [
      "{1: 1, 2: 2, 3: 3, 4: 1, 5: 2, 6: 5, 7: 1, 8: 2}\n"
     ]
    }
   ],
   "source": [
    "##use dictionary to count the frequency of no of elements in a list:\n",
    "\n",
    "numbers=[1,2,2,3,3,3,4,5,5,6,6,6,6,6,7,8,8]\n",
    "frequency={}\n",
    "\n",
    "for number in numbers:\n",
    "    if number in frequency:\n",
    "        frequency[number]+=1\n",
    "    else:\n",
    "        frequency[number]=1\n",
    "print(frequency)"
   ]
  },
  {
   "cell_type": "code",
   "execution_count": null,
   "id": "b88c1d51",
   "metadata": {},
   "outputs": [],
   "source": []
  },
  {
   "cell_type": "code",
   "execution_count": null,
   "id": "883f56cd",
   "metadata": {},
   "outputs": [],
   "source": []
  },
  {
   "cell_type": "code",
   "execution_count": null,
   "id": "586480ec",
   "metadata": {},
   "outputs": [],
   "source": []
  }
 ],
 "metadata": {
  "kernelspec": {
   "display_name": "Python 3",
   "language": "python",
   "name": "python3"
  },
  "language_info": {
   "codemirror_mode": {
    "name": "ipython",
    "version": 3
   },
   "file_extension": ".py",
   "mimetype": "text/x-python",
   "name": "python",
   "nbconvert_exporter": "python",
   "pygments_lexer": "ipython3",
   "version": "3.12.0"
  }
 },
 "nbformat": 4,
 "nbformat_minor": 5
}
