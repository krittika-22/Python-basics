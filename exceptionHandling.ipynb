{
 "cells": [
  {
   "cell_type": "code",
   "execution_count": 1,
   "id": "8547fc77",
   "metadata": {},
   "outputs": [
    {
     "ename": "NameError",
     "evalue": "name 'b' is not defined",
     "output_type": "error",
     "traceback": [
      "\u001b[31m---------------------------------------------------------------------------\u001b[39m",
      "\u001b[31mNameError\u001b[39m                                 Traceback (most recent call last)",
      "\u001b[36mCell\u001b[39m\u001b[36m \u001b[39m\u001b[32mIn[1]\u001b[39m\u001b[32m, line 1\u001b[39m\n\u001b[32m----> \u001b[39m\u001b[32m1\u001b[39m a=\u001b[43mb\u001b[49m\n",
      "\u001b[31mNameError\u001b[39m: name 'b' is not defined"
     ]
    }
   ],
   "source": [
    "a=b"
   ]
  },
  {
   "cell_type": "code",
   "execution_count": 2,
   "id": "68e56a7d",
   "metadata": {},
   "outputs": [
    {
     "name": "stdout",
     "output_type": "stream",
     "text": [
      "name 'b' is not defined\n"
     ]
    }
   ],
   "source": [
    "try:\n",
    "    a=b\n",
    "except NameError as ex:\n",
    "    print(ex)"
   ]
  },
  {
   "cell_type": "code",
   "execution_count": 3,
   "id": "9c4e2ab9",
   "metadata": {},
   "outputs": [
    {
     "ename": "ZeroDivisionError",
     "evalue": "division by zero",
     "output_type": "error",
     "traceback": [
      "\u001b[31m---------------------------------------------------------------------------\u001b[39m",
      "\u001b[31mZeroDivisionError\u001b[39m                         Traceback (most recent call last)",
      "\u001b[36mCell\u001b[39m\u001b[36m \u001b[39m\u001b[32mIn[3]\u001b[39m\u001b[32m, line 1\u001b[39m\n\u001b[32m----> \u001b[39m\u001b[32m1\u001b[39m result=\u001b[32;43m1\u001b[39;49m\u001b[43m/\u001b[49m\u001b[32;43m0\u001b[39;49m\n",
      "\u001b[31mZeroDivisionError\u001b[39m: division by zero"
     ]
    }
   ],
   "source": [
    "result=1/0\n"
   ]
  },
  {
   "cell_type": "code",
   "execution_count": null,
   "id": "7424622b",
   "metadata": {},
   "outputs": [
    {
     "name": "stdout",
     "output_type": "stream",
     "text": [
      "division by zero\n"
     ]
    }
   ],
   "source": [
    "try:\n",
    "    result=1/0\n",
    "except ZeroDivisionError as ex:\n",
    "    print(ex)\n",
    "    print(\"please enter the denominator greater than 0\")"
   ]
  },
  {
   "cell_type": "code",
   "execution_count": 5,
   "id": "1391b965",
   "metadata": {},
   "outputs": [
    {
     "ename": "NameError",
     "evalue": "name 'b' is not defined",
     "output_type": "error",
     "traceback": [
      "\u001b[31m---------------------------------------------------------------------------\u001b[39m",
      "\u001b[31mNameError\u001b[39m                                 Traceback (most recent call last)",
      "\u001b[36mCell\u001b[39m\u001b[36m \u001b[39m\u001b[32mIn[5]\u001b[39m\u001b[32m, line 3\u001b[39m\n\u001b[32m      1\u001b[39m \u001b[38;5;28;01mtry\u001b[39;00m:\n\u001b[32m      2\u001b[39m     result=\u001b[32m1\u001b[39m/\u001b[32m2\u001b[39m\n\u001b[32m----> \u001b[39m\u001b[32m3\u001b[39m     a=\u001b[43mb\u001b[49m\n\u001b[32m      4\u001b[39m \u001b[38;5;28;01mexcept\u001b[39;00m \u001b[38;5;167;01mZeroDivisionError\u001b[39;00m \u001b[38;5;28;01mas\u001b[39;00m ex:\n\u001b[32m      5\u001b[39m     \u001b[38;5;28mprint\u001b[39m(ex)\n",
      "\u001b[31mNameError\u001b[39m: name 'b' is not defined"
     ]
    }
   ],
   "source": [
    "try:\n",
    "    result=1/2\n",
    "    a=b\n",
    "except ZeroDivisionError as ex:\n",
    "    print(ex)\n",
    "    print(\"please enter the denominator greater than 0\")"
   ]
  },
  {
   "cell_type": "code",
   "execution_count": 6,
   "id": "f938b321",
   "metadata": {},
   "outputs": [
    {
     "name": "stdout",
     "output_type": "stream",
     "text": [
      "name 'b' is not defined\n"
     ]
    }
   ],
   "source": [
    "try:\n",
    "    result=1/2\n",
    "    a=b\n",
    "except ZeroDivisionError as ex:\n",
    "    print(ex)\n",
    "    print(\"please enter the denominator greater than 0\")\n",
    "\n",
    "except Exception as ex1:\n",
    "    print(ex1)"
   ]
  },
  {
   "cell_type": "code",
   "execution_count": 10,
   "id": "03223366",
   "metadata": {},
   "outputs": [
    {
     "name": "stdout",
     "output_type": "stream",
     "text": [
      "enter a valid number\n"
     ]
    }
   ],
   "source": [
    "try:\n",
    "    num=int(input(\"enter a number\"))\n",
    "    result=10/num\n",
    "except ValueError as ex1:\n",
    "    print(\"enter a valid number\")\n",
    "\n",
    "except ZeroDivisionError as ex2:\n",
    "    print(\"Enter number greater than 0\")\n"
   ]
  },
  {
   "cell_type": "code",
   "execution_count": 13,
   "id": "65e09454",
   "metadata": {},
   "outputs": [],
   "source": [
    "try:\n",
    "    num=int(input(\"enter a number\"))\n",
    "    result=10/num\n",
    "except ValueError as ex1:\n",
    "    print(\"Not a valid number\")\n",
    "\n",
    "except ZeroDivisionError as ex2:\n",
    "    print(\"Enter number greater than 0\")\n",
    "\n",
    "except Exception as ex:\n",
    "    print(ex)"
   ]
  },
  {
   "cell_type": "markdown",
   "id": "0a2bf39f",
   "metadata": {},
   "source": [
    "## TRY,CATCH AND ELSE"
   ]
  },
  {
   "cell_type": "code",
   "execution_count": 17,
   "id": "0c54b873",
   "metadata": {},
   "outputs": [
    {
     "name": "stdout",
     "output_type": "stream",
     "text": [
      "the result is 0.45454545454545453\n"
     ]
    }
   ],
   "source": [
    "try:\n",
    "    num=int(input(\"enter a number\"))\n",
    "    result=10/num\n",
    "except ValueError as ex1:\n",
    "    print(\"Not a valid number\")\n",
    "\n",
    "except ZeroDivisionError as ex2:\n",
    "    print(\"Enter number greater than 0\")\n",
    "\n",
    "except Exception as ex:\n",
    "    print(ex)\n",
    "\n",
    "else:\n",
    "    print(f\"the result is {result}\")"
   ]
  },
  {
   "cell_type": "markdown",
   "id": "463b2ce4",
   "metadata": {},
   "source": [
    "## TRY,EXCEPT,ELSE and FINALLY"
   ]
  },
  {
   "cell_type": "code",
   "execution_count": 20,
   "id": "400b3abe",
   "metadata": {},
   "outputs": [
    {
     "name": "stdout",
     "output_type": "stream",
     "text": [
      "the result is 0.8333333333333334\n",
      "Execution complete\n"
     ]
    }
   ],
   "source": [
    "try:\n",
    "    num=int(input(\"enter a number\"))\n",
    "    result=10/num\n",
    "except ValueError as ex1:\n",
    "    print(\"Not a valid number\")\n",
    "\n",
    "except ZeroDivisionError as ex2:\n",
    "    print(\"Enter number greater than 0\")\n",
    "\n",
    "except Exception as ex:\n",
    "    print(ex)\n",
    "\n",
    "else:\n",
    "    print(f\"the result is {result}\")\n",
    "\n",
    "finally:\n",
    "    print(\"Execution complete\")"
   ]
  },
  {
   "cell_type": "markdown",
   "id": "86c6c5ea",
   "metadata": {},
   "source": [
    "## FILE HANDLING AND EXCEPTION HANDLING"
   ]
  },
  {
   "cell_type": "code",
   "execution_count": null,
   "id": "710eb77c",
   "metadata": {},
   "outputs": [
    {
     "name": "stdout",
     "output_type": "stream",
     "text": [
      "file does not exist\n"
     ]
    }
   ],
   "source": [
    "try:\n",
    "    file=open('example2.txt','r')\n",
    "    content=file.read()\n",
    "    print(content)\n",
    "\n",
    "except FileNotFoundError:\n",
    "    print(\"file does not exist\")\n",
    "\n",
    "\n",
    "\n",
    "finally:\n",
    "    if 'file' in locals() and not file.closed():\n",
    "        file.close()\n",
    "        print('file close')\n"
   ]
  },
  {
   "cell_type": "code",
   "execution_count": 24,
   "id": "85ba3cc4",
   "metadata": {},
   "outputs": [
    {
     "name": "stdout",
     "output_type": "stream",
     "text": [
      "name 'b' is not defined\n",
      "file close\n"
     ]
    }
   ],
   "source": [
    "try:\n",
    "    file=open('example2.txt','r')\n",
    "    content=file.read()\n",
    "    a=b\n",
    "    print(content)\n",
    "\n",
    "except FileNotFoundError:\n",
    "    print(\"file does not exist\")\n",
    "except Exception as ex:\n",
    "    print(ex)\n",
    "\n",
    "\n",
    "\n",
    "finally:\n",
    "    if 'file' in locals() or not file.closed():\n",
    "        file.close()\n",
    "        print('file close')"
   ]
  }
 ],
 "metadata": {
  "kernelspec": {
   "display_name": "Python 3",
   "language": "python",
   "name": "python3"
  },
  "language_info": {
   "codemirror_mode": {
    "name": "ipython",
    "version": 3
   },
   "file_extension": ".py",
   "mimetype": "text/x-python",
   "name": "python",
   "nbconvert_exporter": "python",
   "pygments_lexer": "ipython3",
   "version": "3.12.0"
  }
 },
 "nbformat": 4,
 "nbformat_minor": 5
}
