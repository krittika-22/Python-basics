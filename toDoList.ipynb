{
 "cells": [
  {
   "cell_type": "markdown",
   "id": "86cfd263",
   "metadata": {},
   "source": [
    "#### REAL WORLD USECASES OF LIST"
   ]
  },
  {
   "cell_type": "code",
   "execution_count": 10,
   "id": "3460b998",
   "metadata": {},
   "outputs": [
    {
     "name": "stdout",
     "output_type": "stream",
     "text": [
      "['Solve one array problem-DSA', 'Study Python-List', 'solve apti questions', 'Go for a walk', 'pay bills', 'complete project work']\n",
      "Don't forget to pay the bills\n",
      "To do list remaining\n",
      "-Solve one array problem-DSA\n",
      "-Study Python-List\n",
      "-solve apti questions\n",
      "-Go for a walk\n",
      "-pay bills\n",
      "-complete project work\n"
     ]
    }
   ],
   "source": [
    "##MAKE A TO DO LIST\n",
    "\n",
    "to_do_list=[\"Solve one array problem-DSA\",\"Study Python-List\",\"solve apti questions\",\"Clean the house\",\"Go for a walk\",\"pay bills\"]\n",
    "to_do_list.append(\"complete project work\")\n",
    "to_do_list.remove(\"Clean the house\")\n",
    "print(to_do_list)\n",
    "if \"pay bills\" in to_do_list:\n",
    "    print(\"Don't forget to pay the bills\")\n",
    "print(\"To do list remaining\")\n",
    "for task in to_do_list:\n",
    "    print(f\"-{task}\")\n",
    "\n"
   ]
  },
  {
   "cell_type": "code",
   "execution_count": null,
   "id": "1d3b6820",
   "metadata": {},
   "outputs": [],
   "source": []
  }
 ],
 "metadata": {
  "kernelspec": {
   "display_name": "Python 3",
   "language": "python",
   "name": "python3"
  },
  "language_info": {
   "codemirror_mode": {
    "name": "ipython",
    "version": 3
   },
   "file_extension": ".py",
   "mimetype": "text/x-python",
   "name": "python",
   "nbconvert_exporter": "python",
   "pygments_lexer": "ipython3",
   "version": "3.12.0"
  }
 },
 "nbformat": 4,
 "nbformat_minor": 5
}
